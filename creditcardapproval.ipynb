{
 "cells": [
  {
   "cell_type": "code",
   "execution_count": 1,
   "id": "c3468b77-9f70-4c4d-bde3-ec075df2755a",
   "metadata": {},
   "outputs": [
    {
     "data": {
      "text/html": [
       "<div>\n",
       "<style scoped>\n",
       "    .dataframe tbody tr th:only-of-type {\n",
       "        vertical-align: middle;\n",
       "    }\n",
       "\n",
       "    .dataframe tbody tr th {\n",
       "        vertical-align: top;\n",
       "    }\n",
       "\n",
       "    .dataframe thead th {\n",
       "        text-align: right;\n",
       "    }\n",
       "</style>\n",
       "<table border=\"1\" class=\"dataframe\">\n",
       "  <thead>\n",
       "    <tr style=\"text-align: right;\">\n",
       "      <th></th>\n",
       "      <th>income</th>\n",
       "      <th>credit_score</th>\n",
       "      <th>creditcard_approval</th>\n",
       "      <th>recent_searches</th>\n",
       "    </tr>\n",
       "  </thead>\n",
       "  <tbody>\n",
       "    <tr>\n",
       "      <th>0</th>\n",
       "      <td>40000</td>\n",
       "      <td>740</td>\n",
       "      <td>yes</td>\n",
       "      <td>mobile, earphones, screengaurd,  ipad, laptop,...</td>\n",
       "    </tr>\n",
       "    <tr>\n",
       "      <th>1</th>\n",
       "      <td>20000</td>\n",
       "      <td>690</td>\n",
       "      <td>no</td>\n",
       "      <td>mobile, screengaurd, laptop</td>\n",
       "    </tr>\n",
       "    <tr>\n",
       "      <th>2</th>\n",
       "      <td>175000</td>\n",
       "      <td>710</td>\n",
       "      <td>yes</td>\n",
       "      <td>mobile, earphones, screengaurd, charger</td>\n",
       "    </tr>\n",
       "    <tr>\n",
       "      <th>3</th>\n",
       "      <td>90000</td>\n",
       "      <td>670</td>\n",
       "      <td>no</td>\n",
       "      <td>laptop, earphones</td>\n",
       "    </tr>\n",
       "    <tr>\n",
       "      <th>4</th>\n",
       "      <td>60000</td>\n",
       "      <td>640</td>\n",
       "      <td>no</td>\n",
       "      <td>laptop, earphones, mobile, charger</td>\n",
       "    </tr>\n",
       "  </tbody>\n",
       "</table>\n",
       "</div>"
      ],
      "text/plain": [
       "   income  credit_score creditcard_approval  \\\n",
       "0   40000           740                 yes   \n",
       "1   20000           690                  no   \n",
       "2  175000           710                 yes   \n",
       "3   90000           670                  no   \n",
       "4   60000           640                  no   \n",
       "\n",
       "                                     recent_searches  \n",
       "0  mobile, earphones, screengaurd,  ipad, laptop,...  \n",
       "1                        mobile, screengaurd, laptop  \n",
       "2            mobile, earphones, screengaurd, charger  \n",
       "3                                  laptop, earphones  \n",
       "4                 laptop, earphones, mobile, charger  "
      ]
     },
     "execution_count": 1,
     "metadata": {},
     "output_type": "execute_result"
    }
   ],
   "source": [
    "# loading dataset\n",
    "import pandas as pd\n",
    "import numpy as np\n",
    "df = pd.read_csv('mlexam2.csv')\n",
    "df.head()"
   ]
  },
  {
   "cell_type": "code",
   "execution_count": 2,
   "id": "ffbce9cd-4fe8-496f-b576-f2f5d996f25d",
   "metadata": {},
   "outputs": [
    {
     "data": {
      "text/plain": [
       "income                  int64\n",
       "credit_score            int64\n",
       "creditcard_approval    object\n",
       "recent_searches        object\n",
       "dtype: object"
      ]
     },
     "execution_count": 2,
     "metadata": {},
     "output_type": "execute_result"
    }
   ],
   "source": [
    "df.dtypes"
   ]
  },
  {
   "cell_type": "code",
   "execution_count": 3,
   "id": "2f287b61-2664-41b7-8174-1193d57c607a",
   "metadata": {},
   "outputs": [
    {
     "data": {
      "text/plain": [
       "income                    int64\n",
       "credit_score              int64\n",
       "creditcard_approval    category\n",
       "recent_searches          object\n",
       "dtype: object"
      ]
     },
     "execution_count": 3,
     "metadata": {},
     "output_type": "execute_result"
    }
   ],
   "source": [
    "# converting creditcard_approval into category type\n",
    "df['creditcard_approval'] = df['creditcard_approval'].astype('category')\n",
    "df.dtypes"
   ]
  },
  {
   "cell_type": "code",
   "execution_count": 4,
   "id": "e289c262-e12e-4d4a-8d6a-6bee48366ed8",
   "metadata": {},
   "outputs": [],
   "source": [
    "# In Python - the Decision Trees work ONLY on quantitative data\n",
    "x = df.drop(columns=['recent_searches', 'creditcard_approval'])\n",
    "y = df['creditcard_approval']"
   ]
  },
  {
   "cell_type": "code",
   "execution_count": 5,
   "id": "b3e34171-b04c-4b9f-9df7-98f3f94f2f35",
   "metadata": {},
   "outputs": [],
   "source": [
    "from sklearn.model_selection import train_test_split\n",
    "# creating disjoint train and test data\n",
    "# using stratified sampling to ensure that each class is represented proportionally in both sets.\n",
    "x_train, x_test, y_train, y_test = train_test_split(x, y, test_size = 0.2, random_state=123)"
   ]
  },
  {
   "cell_type": "code",
   "execution_count": 6,
   "id": "67d2c1e8-931b-496e-8581-e80bf8dba97b",
   "metadata": {},
   "outputs": [
    {
     "data": {
      "text/plain": [
       "creditcard_approval\n",
       "no     11\n",
       "yes    10\n",
       "Name: count, dtype: int64"
      ]
     },
     "execution_count": 6,
     "metadata": {},
     "output_type": "execute_result"
    }
   ],
   "source": [
    "y_train.value_counts()"
   ]
  },
  {
   "cell_type": "code",
   "execution_count": 7,
   "id": "695c5176-6be0-4ce3-8ad1-d3952fbf75b1",
   "metadata": {},
   "outputs": [
    {
     "data": {
      "text/plain": [
       "creditcard_approval\n",
       "yes    4\n",
       "no     2\n",
       "Name: count, dtype: int64"
      ]
     },
     "execution_count": 7,
     "metadata": {},
     "output_type": "execute_result"
    }
   ],
   "source": [
    "y_test.value_counts()"
   ]
  },
  {
   "cell_type": "markdown",
   "id": "8fdd84c7-bf2c-453e-95ab-75ecc33d0e31",
   "metadata": {},
   "source": [
    "train and test sets looks balanced."
   ]
  },
  {
   "cell_type": "code",
   "execution_count": 8,
   "id": "70fcf09b-c0c9-4048-aee8-0fe292fb553a",
   "metadata": {},
   "outputs": [
    {
     "name": "stdout",
     "output_type": "stream",
     "text": [
      "x_train: \n",
      "\n",
      "    income  credit_score\n",
      "21  150000           690\n",
      "20   53000           620\n",
      "12  100000           650\n",
      "26  100000           610\n",
      "4    60000           640 \n",
      "\n",
      "y_train: \n",
      "\n",
      "21    yes\n",
      "20     no\n",
      "12     no\n",
      "26     no\n",
      "4      no\n",
      "Name: creditcard_approval, dtype: category\n",
      "Categories (2, object): ['no', 'yes'] \n",
      "\n",
      "x_test: \n",
      "\n",
      "    income  credit_score\n",
      "23   50000           650\n",
      "5    55000           705\n",
      "7   500000           690\n",
      "8    85000           720\n",
      "24   20000           690 \n",
      "\n",
      "y_test: \n",
      "\n",
      "23     no\n",
      "5     yes\n",
      "7     yes\n",
      "8     yes\n",
      "24     no\n",
      "Name: creditcard_approval, dtype: category\n",
      "Categories (2, object): ['no', 'yes'] \n",
      "\n"
     ]
    }
   ],
   "source": [
    "print('x_train:', '\\n')\n",
    "print(x_train.head(), '\\n')\n",
    "\n",
    "print('y_train:', '\\n')\n",
    "print(y_train.head(), '\\n')\n",
    "\n",
    "print('x_test:', '\\n')\n",
    "print(x_test.head(), '\\n')\n",
    "\n",
    "print('y_test:', '\\n')\n",
    "print(y_test.head(), '\\n')\n"
   ]
  },
  {
   "cell_type": "code",
   "execution_count": 9,
   "id": "1551a861-4196-4be0-8838-323f483328d1",
   "metadata": {},
   "outputs": [],
   "source": [
    "from sklearn.tree import DecisionTreeClassifier\n",
    "from sklearn import tree\n",
    "import matplotlib.pyplot as plt\n",
    "import graphviz \n",
    "from sklearn.metrics import confusion_matrix"
   ]
  },
  {
   "cell_type": "code",
   "execution_count": 10,
   "id": "b519f7e7-7974-43e8-b4d2-5a3f21e5104e",
   "metadata": {},
   "outputs": [],
   "source": [
    "# instantiating the decision tree with entropy criterion and best splitter\n",
    "MyDT1 = DecisionTreeClassifier(criterion='entropy', \n",
    "                            splitter='best',  \n",
    "                             )\n",
    "\n",
    "# instantiating the decision tree with entropy criterion and random splitter\n",
    "MyDT2 = DecisionTreeClassifier(criterion='entropy', \n",
    "                            splitter='random', \n",
    "                             )\n",
    "\n",
    "# instantiating the decision tree with gini criterion and best splitter\n",
    "MyDT3 = DecisionTreeClassifier(criterion='gini',\n",
    "                            splitter='best',  \n",
    "                             )\n",
    "\n",
    "# instantiating the decision tree with gini criterion and random splitter\n",
    "MyDT4 = DecisionTreeClassifier(criterion='gini', \n",
    "                            splitter='random', \n",
    "                             )"
   ]
  },
  {
   "cell_type": "code",
   "execution_count": 11,
   "id": "538a9e63-4ff7-42ca-9d58-243f31786af0",
   "metadata": {},
   "outputs": [],
   "source": [
    "# training the model\n",
    "MyDT1 = MyDT1.fit(x_train, y_train)\n",
    "MyDT2 = MyDT2.fit(x_train, y_train)\n",
    "MyDT3 = MyDT3.fit(x_train, y_train)\n",
    "MyDT4 = MyDT4.fit(x_train, y_train)"
   ]
  },
  {
   "cell_type": "code",
   "execution_count": 12,
   "id": "87ffca01-7953-4f9e-91da-897bfcc9a1f9",
   "metadata": {},
   "outputs": [],
   "source": [
    "# predicting the label on test data\n",
    "y1_pred = MyDT1.predict(x_test)\n",
    "y2_pred = MyDT2.predict(x_test)\n",
    "y3_pred = MyDT3.predict(x_test)\n",
    "y4_pred = MyDT4.predict(x_test)"
   ]
  },
  {
   "cell_type": "code",
   "execution_count": 13,
   "id": "2254526c-20d1-4f27-9fb1-3c70ac3aee34",
   "metadata": {},
   "outputs": [
    {
     "name": "stdout",
     "output_type": "stream",
     "text": [
      "Accuracy (criterion='entropy', splitter='best') = 1.0\n",
      "Accuracy (criterion='entropy', splitter='random') = 1.0\n",
      "Accuracy (criterion='gini', splitter='best') = 1.0\n",
      "Accuracy (criterion='gini', splitter='random') = 1.0\n"
     ]
    }
   ],
   "source": [
    "from sklearn.metrics import accuracy_score, classification_report\n",
    "# calculating accuracy\n",
    "accuracy1 = accuracy_score(y_test, y1_pred)\n",
    "accuracy2 = accuracy_score(y_test, y2_pred)\n",
    "accuracy3 = accuracy_score(y_test, y3_pred)\n",
    "accuracy4 = accuracy_score(y_test, y4_pred)\n",
    "\n",
    "print(\"Accuracy (criterion='entropy', splitter='best') =\", accuracy1)\n",
    "print(\"Accuracy (criterion='entropy', splitter='random') =\", accuracy2)\n",
    "print(\"Accuracy (criterion='gini', splitter='best') =\", accuracy3)\n",
    "print(\"Accuracy (criterion='gini', splitter='random') =\", accuracy4)"
   ]
  },
  {
   "cell_type": "code",
   "execution_count": 25,
   "id": "3d6c9bf2-f0d2-4d15-a9cc-26790e2a77c0",
   "metadata": {},
   "outputs": [
    {
     "data": {
      "text/plain": [
       "'exam2_1.pdf'"
      ]
     },
     "execution_count": 25,
     "metadata": {},
     "output_type": "execute_result"
    }
   ],
   "source": [
    "# generating the tree viz\n",
    "TREE_data = tree.export_graphviz(MyDT1, out_file=None,\n",
    "                  feature_names=x.columns,\n",
    "                  filled=True, \n",
    "                  rounded=True,  \n",
    "                  special_characters=True) \n",
    "                                   \n",
    "graph = graphviz.Source(TREE_data) \n",
    "graph.render(\"exam2_1\") "
   ]
  },
  {
   "cell_type": "code",
   "execution_count": 26,
   "id": "fa5642f1-9f11-4c80-9492-e3834c2dcc13",
   "metadata": {},
   "outputs": [
    {
     "data": {
      "text/plain": [
       "'exam2_2.pdf'"
      ]
     },
     "execution_count": 26,
     "metadata": {},
     "output_type": "execute_result"
    }
   ],
   "source": [
    "# generating the tree viz\n",
    "TREE_data = tree.export_graphviz(MyDT2, out_file=None,\n",
    "                  feature_names=x.columns,\n",
    "                  filled=True, \n",
    "                  rounded=True,  \n",
    "                  special_characters=True) \n",
    "                                   \n",
    "graph = graphviz.Source(TREE_data) \n",
    "graph.render(\"exam2_2\") "
   ]
  },
  {
   "cell_type": "code",
   "execution_count": 27,
   "id": "55df6dad-4e2f-4840-94fa-9d21b90a3d25",
   "metadata": {},
   "outputs": [
    {
     "data": {
      "text/plain": [
       "'exam2_3.pdf'"
      ]
     },
     "execution_count": 27,
     "metadata": {},
     "output_type": "execute_result"
    }
   ],
   "source": [
    "# generating the tree viz\n",
    "TREE_data = tree.export_graphviz(MyDT3, out_file=None,\n",
    "                  feature_names=x.columns,\n",
    "                  filled=True, \n",
    "                  rounded=True,  \n",
    "                  special_characters=True) \n",
    "                                   \n",
    "graph = graphviz.Source(TREE_data) \n",
    "graph.render(\"exam2_3\") "
   ]
  },
  {
   "cell_type": "code",
   "execution_count": 28,
   "id": "a3c0ec44-ec6f-4a97-ac08-5c86010d22b5",
   "metadata": {},
   "outputs": [
    {
     "data": {
      "text/plain": [
       "'exam2_4.pdf'"
      ]
     },
     "execution_count": 28,
     "metadata": {},
     "output_type": "execute_result"
    }
   ],
   "source": [
    "# generating the tree viz\n",
    "TREE_data = tree.export_graphviz(MyDT4, out_file=None,\n",
    "                  feature_names=x.columns,\n",
    "                  filled=True, \n",
    "                  rounded=True,  \n",
    "                  special_characters=True) \n",
    "                                   \n",
    "graph = graphviz.Source(TREE_data) \n",
    "graph.render(\"exam2_4\") "
   ]
  },
  {
   "cell_type": "code",
   "execution_count": 15,
   "id": "b823b1db-3674-469a-9569-6c3859ecc0c7",
   "metadata": {},
   "outputs": [],
   "source": [
    "MyDT1_cm = confusion_matrix(y_test, y1_pred)\n",
    "MyDT2_cm = confusion_matrix(y_test, y2_pred)\n",
    "MyDT3_cm = confusion_matrix(y_test, y3_pred)\n",
    "MyDT4_cm = confusion_matrix(y_test, y4_pred)"
   ]
  },
  {
   "cell_type": "code",
   "execution_count": 16,
   "id": "ad94da68-8bd4-47a8-a500-f540ad658679",
   "metadata": {},
   "outputs": [
    {
     "data": {
      "image/png": "[encoded data removed]",
      "text/plain": [
       "<Figure size 640x480 with 1 Axes>"
      ]
     },
     "metadata": {},
     "output_type": "display_data"
    }
   ],
   "source": [
    "import seaborn as sns\n",
    "import numpy as np\n",
    "import matplotlib.pyplot as plt\n",
    "\n",
    "labels = y.unique()\n",
    "\n",
    "# if only first row values are annotated then upgrade your seaborn\n",
    "# pip install seaborn --upgrade\n",
    "sns.heatmap(MyDT1_cm, annot=True, fmt='d', xticklabels=labels, yticklabels=labels, cmap='Blues', cbar=False)\n",
    "plt.title(\"Confusion Matrix\",fontsize=15)\n",
    "plt.xlabel(\"Actual\", fontsize=10)\n",
    "plt.ylabel(\"Predicted\", fontsize=10)\n",
    "plt.show()"
   ]
  },
  {
   "cell_type": "code",
   "execution_count": 17,
   "id": "f2042df1-eabb-4d6d-8e81-638bbbd6ca98",
   "metadata": {},
   "outputs": [
    {
     "data": {
      "image/png": "[encoded data removed]",
      "text/plain": [
       "<Figure size 640x480 with 1 Axes>"
      ]
     },
     "metadata": {},
     "output_type": "display_data"
    }
   ],
   "source": [
    "sns.heatmap(MyDT2_cm, annot=True, fmt='d', xticklabels=labels, yticklabels=labels, cmap='Blues', cbar=False)\n",
    "plt.title(\"Confusion Matrix\",fontsize=15)\n",
    "plt.xlabel(\"Actual\", fontsize=10)\n",
    "plt.ylabel(\"Predicted\", fontsize=10)\n",
    "plt.show()"
   ]
  },
  {
   "cell_type": "code",
   "execution_count": 18,
   "id": "2920c210-5aff-43ff-bbd4-26ab47566bba",
   "metadata": {},
   "outputs": [
    {
     "data": {
      "image/png": "[encoded data removed]",
      "text/plain": [
       "<Figure size 640x480 with 1 Axes>"
      ]
     },
     "metadata": {},
     "output_type": "display_data"
    }
   ],
   "source": [
    "sns.heatmap(MyDT3_cm, annot=True, fmt='d', xticklabels=labels, yticklabels=labels, cmap='Blues', cbar=False)\n",
    "plt.title(\"Confusion Matrix\",fontsize=15)\n",
    "plt.xlabel(\"Actual\", fontsize=10)\n",
    "plt.ylabel(\"Predicted\", fontsize=10)\n",
    "plt.show()"
   ]
  },
  {
   "cell_type": "code",
   "execution_count": 19,
   "id": "256e7884-4897-43b7-821f-172e7e3cd372",
   "metadata": {},
   "outputs": [
    {
     "data": {
      "image/png": "[encoded data removed]",
      "text/plain": [
       "<Figure size 640x480 with 1 Axes>"
      ]
     },
     "metadata": {},
     "output_type": "display_data"
    }
   ],
   "source": [
    "sns.heatmap(MyDT4_cm, annot=True, fmt='d', xticklabels=labels, yticklabels=labels, cmap='Blues', cbar=False)\n",
    "plt.title(\"Confusion Matrix\",fontsize=15)\n",
    "plt.xlabel(\"Actual\", fontsize=10)\n",
    "plt.ylabel(\"Predicted\", fontsize=10)\n",
    "plt.show()"
   ]
  },
  {
   "cell_type": "code",
   "execution_count": 20,
   "id": "01e70e7e-99bd-4ff9-aeb4-c9cacc8edbb8",
   "metadata": {},
   "outputs": [],
   "source": [
    "# checking the feature importance for each tree\n",
    "feature_importances1 = MyDT1.feature_importances_\n",
    "feature_importances2 = MyDT2.feature_importances_\n",
    "feature_importances3 = MyDT3.feature_importances_\n",
    "feature_importances4 = MyDT4.feature_importances_"
   ]
  },
  {
   "cell_type": "code",
   "execution_count": 21,
   "id": "33d95077-0a8a-44aa-9cfa-ad8e85ff0b79",
   "metadata": {},
   "outputs": [
    {
     "data": {
      "text/html": [
       "<div>\n",
       "<style scoped>\n",
       "    .dataframe tbody tr th:only-of-type {\n",
       "        vertical-align: middle;\n",
       "    }\n",
       "\n",
       "    .dataframe tbody tr th {\n",
       "        vertical-align: top;\n",
       "    }\n",
       "\n",
       "    .dataframe thead th {\n",
       "        text-align: right;\n",
       "    }\n",
       "</style>\n",
       "<table border=\"1\" class=\"dataframe\">\n",
       "  <thead>\n",
       "    <tr style=\"text-align: right;\">\n",
       "      <th></th>\n",
       "      <th>Feature</th>\n",
       "      <th>Importance</th>\n",
       "    </tr>\n",
       "  </thead>\n",
       "  <tbody>\n",
       "    <tr>\n",
       "      <th>1</th>\n",
       "      <td>credit_score</td>\n",
       "      <td>0.76941</td>\n",
       "    </tr>\n",
       "    <tr>\n",
       "      <th>0</th>\n",
       "      <td>income</td>\n",
       "      <td>0.23059</td>\n",
       "    </tr>\n",
       "  </tbody>\n",
       "</table>\n",
       "</div>"
      ],
      "text/plain": [
       "        Feature  Importance\n",
       "1  credit_score     0.76941\n",
       "0        income     0.23059"
      ]
     },
     "execution_count": 21,
     "metadata": {},
     "output_type": "execute_result"
    }
   ],
   "source": [
    "feature_names = x.columns\n",
    "# sorting the importance in descending order\n",
    "feature_imp1 = pd.DataFrame({'Feature': feature_names, 'Importance': feature_importances1})\n",
    "feature_imp1 = feature_imp1.sort_values(by='Importance', ascending=False)\n",
    "feature_imp1"
   ]
  },
  {
   "cell_type": "code",
   "execution_count": 22,
   "id": "38973f60-3c0c-429e-920e-ca95f04dbd19",
   "metadata": {},
   "outputs": [
    {
     "data": {
      "text/html": [
       "<div>\n",
       "<style scoped>\n",
       "    .dataframe tbody tr th:only-of-type {\n",
       "        vertical-align: middle;\n",
       "    }\n",
       "\n",
       "    .dataframe tbody tr th {\n",
       "        vertical-align: top;\n",
       "    }\n",
       "\n",
       "    .dataframe thead th {\n",
       "        text-align: right;\n",
       "    }\n",
       "</style>\n",
       "<table border=\"1\" class=\"dataframe\">\n",
       "  <thead>\n",
       "    <tr style=\"text-align: right;\">\n",
       "      <th></th>\n",
       "      <th>Feature</th>\n",
       "      <th>Importance</th>\n",
       "    </tr>\n",
       "  </thead>\n",
       "  <tbody>\n",
       "    <tr>\n",
       "      <th>1</th>\n",
       "      <td>credit_score</td>\n",
       "      <td>0.985446</td>\n",
       "    </tr>\n",
       "    <tr>\n",
       "      <th>0</th>\n",
       "      <td>income</td>\n",
       "      <td>0.014554</td>\n",
       "    </tr>\n",
       "  </tbody>\n",
       "</table>\n",
       "</div>"
      ],
      "text/plain": [
       "        Feature  Importance\n",
       "1  credit_score    0.985446\n",
       "0        income    0.014554"
      ]
     },
     "execution_count": 22,
     "metadata": {},
     "output_type": "execute_result"
    }
   ],
   "source": [
    "# sorting the importance in descending order\n",
    "feature_imp2 = pd.DataFrame({'Feature': feature_names, 'Importance': feature_importances2})\n",
    "feature_imp2 = feature_imp2.sort_values(by='Importance', ascending=False)\n",
    "feature_imp2"
   ]
  },
  {
   "cell_type": "code",
   "execution_count": 23,
   "id": "662e72d5-5943-40b1-bc80-4bdbbaf20507",
   "metadata": {},
   "outputs": [
    {
     "data": {
      "text/html": [
       "<div>\n",
       "<style scoped>\n",
       "    .dataframe tbody tr th:only-of-type {\n",
       "        vertical-align: middle;\n",
       "    }\n",
       "\n",
       "    .dataframe tbody tr th {\n",
       "        vertical-align: top;\n",
       "    }\n",
       "\n",
       "    .dataframe thead th {\n",
       "        text-align: right;\n",
       "    }\n",
       "</style>\n",
       "<table border=\"1\" class=\"dataframe\">\n",
       "  <thead>\n",
       "    <tr style=\"text-align: right;\">\n",
       "      <th></th>\n",
       "      <th>Feature</th>\n",
       "      <th>Importance</th>\n",
       "    </tr>\n",
       "  </thead>\n",
       "  <tbody>\n",
       "    <tr>\n",
       "      <th>1</th>\n",
       "      <td>credit_score</td>\n",
       "      <td>0.826446</td>\n",
       "    </tr>\n",
       "    <tr>\n",
       "      <th>0</th>\n",
       "      <td>income</td>\n",
       "      <td>0.173554</td>\n",
       "    </tr>\n",
       "  </tbody>\n",
       "</table>\n",
       "</div>"
      ],
      "text/plain": [
       "        Feature  Importance\n",
       "1  credit_score    0.826446\n",
       "0        income    0.173554"
      ]
     },
     "execution_count": 23,
     "metadata": {},
     "output_type": "execute_result"
    }
   ],
   "source": [
    "# sorting the importance in descending order\n",
    "feature_imp3 = pd.DataFrame({'Feature': feature_names, 'Importance': feature_importances3})\n",
    "feature_imp3 = feature_imp3.sort_values(by='Importance', ascending=False)\n",
    "feature_imp3"
   ]
  },
  {
   "cell_type": "code",
   "execution_count": 24,
   "id": "0de6db29-8458-4312-a743-c81d429390e1",
   "metadata": {},
   "outputs": [
    {
     "data": {
      "text/html": [
       "<div>\n",
       "<style scoped>\n",
       "    .dataframe tbody tr th:only-of-type {\n",
       "        vertical-align: middle;\n",
       "    }\n",
       "\n",
       "    .dataframe tbody tr th {\n",
       "        vertical-align: top;\n",
       "    }\n",
       "\n",
       "    .dataframe thead th {\n",
       "        text-align: right;\n",
       "    }\n",
       "</style>\n",
       "<table border=\"1\" class=\"dataframe\">\n",
       "  <thead>\n",
       "    <tr style=\"text-align: right;\">\n",
       "      <th></th>\n",
       "      <th>Feature</th>\n",
       "      <th>Importance</th>\n",
       "    </tr>\n",
       "  </thead>\n",
       "  <tbody>\n",
       "    <tr>\n",
       "      <th>1</th>\n",
       "      <td>credit_score</td>\n",
       "      <td>0.796364</td>\n",
       "    </tr>\n",
       "    <tr>\n",
       "      <th>0</th>\n",
       "      <td>income</td>\n",
       "      <td>0.203636</td>\n",
       "    </tr>\n",
       "  </tbody>\n",
       "</table>\n",
       "</div>"
      ],
      "text/plain": [
       "        Feature  Importance\n",
       "1  credit_score    0.796364\n",
       "0        income    0.203636"
      ]
     },
     "execution_count": 24,
     "metadata": {},
     "output_type": "execute_result"
    }
   ],
   "source": [
    "# sorting the importance in descending order\n",
    "feature_imp4 = pd.DataFrame({'Feature': feature_names, 'Importance': feature_importances4})\n",
    "feature_imp4 = feature_imp4.sort_values(by='Importance', ascending=False)\n",
    "feature_imp4"
   ]
  },
  {
   "cell_type": "code",
   "execution_count": null,
   "id": "35dd73d7-83b3-4d67-bb5a-9365572b3916",
   "metadata": {},
   "outputs": [],
   "source": []
  }
 ],
 "metadata": {
  "kernelspec": {
   "display_name": "Python 3 (ipykernel)",
   "language": "python",
   "name": "python3"
  },
  "language_info": {
   "codemirror_mode": {
    "name": "ipython",
    "version": 3
   },
   "file_extension": ".py",
   "mimetype": "text/x-python",
   "name": "python",
   "nbconvert_exporter": "python",
   "pygments_lexer": "ipython3",
   "version": "3.11.7"
  }
 },
 "nbformat": 4,
 "nbformat_minor": 5
}
